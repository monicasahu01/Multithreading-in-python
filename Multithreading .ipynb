{
 "cells": [
  {
   "cell_type": "code",
   "execution_count": null,
   "id": "d3b33793-6de8-41f6-9c53-234859fb4014",
   "metadata": {},
   "outputs": [],
   "source": []
  },
  {
   "cell_type": "raw",
   "id": "b19fe3ed-ab45-433b-8ae7-e95d64d419e0",
   "metadata": {},
   "source": []
  },
  {
   "cell_type": "code",
   "execution_count": null,
   "id": "8518c9a0-ae94-4d18-82aa-da940b34097c",
   "metadata": {},
   "outputs": [],
   "source": [
    "what is multithreading in python?\n",
    "Multithreading is defined as the ability of a processor to execute multiple threads concurrently. \n",
    "In a simple, single-core CPU, it is achieved using frequent switching between threads"
   ]
  }
 ],
 "metadata": {
  "kernelspec": {
   "display_name": "Python 3 (ipykernel)",
   "language": "python",
   "name": "python3"
  },
  "language_info": {
   "codemirror_mode": {
    "name": "ipython",
    "version": 3
   },
   "file_extension": ".py",
   "mimetype": "text/x-python",
   "name": "python",
   "nbconvert_exporter": "python",
   "pygments_lexer": "ipython3",
   "version": "3.10.8"
  }
 },
 "nbformat": 4,
 "nbformat_minor": 5
}
